{
  "metadata": {
    "language_info": {
      "codemirror_mode": {
        "name": "python",
        "version": 3
      },
      "file_extension": ".py",
      "mimetype": "text/x-python",
      "name": "python",
      "nbconvert_exporter": "python",
      "pygments_lexer": "ipython3",
      "version": "3.8"
    },
    "kernelspec": {
      "name": "python",
      "display_name": "Python (Pyodide)",
      "language": "python"
    }
  },
  "nbformat_minor": 4,
  "nbformat": 4,
  "cells": [
    {
      "cell_type": "markdown",
      "source": "# Peer Graded Assignment 1",
      "metadata": {}
    },
    {
      "cell_type": "markdown",
      "source": "_this is a short introduction to the assignment where I will execute a short group of tasks as dictated by the assignment_",
      "metadata": {}
    },
    {
      "cell_type": "markdown",
      "source": "List of Data Science Languages\n1. Python  \n2. R  \n3. Scala",
      "metadata": {}
    },
    {
      "cell_type": "markdown",
      "source": "List of Data Science Libraries  \n1. Tensor-Flow\n2. PyTorch\n3. Pandas ",
      "metadata": {}
    },
    {
      "cell_type": "markdown",
      "source": "|Tool   |Use    |\n|-------|-------|\n|Jupyter|Code   |\n|Watson |Code   |",
      "metadata": {}
    },
    {
      "cell_type": "code",
      "source": "2+2*5*4",
      "metadata": {
        "trusted": true
      },
      "execution_count": 9,
      "outputs": [
        {
          "execution_count": 9,
          "output_type": "execute_result",
          "data": {
            "text/plain": "42"
          },
          "metadata": {}
        }
      ]
    },
    {
      "cell_type": "code",
      "source": "#35 is the number of minutes\ny = 35/60\nprint(str(y) + \" hours\")",
      "metadata": {
        "trusted": true
      },
      "execution_count": 17,
      "outputs": [
        {
          "name": "stdout",
          "text": "0.5833333333333334 hours\n",
          "output_type": "stream"
        }
      ]
    },
    {
      "cell_type": "markdown",
      "source": "List of Objectives  \n1. Add\n2. Multiply\n3. Conver minutes to hours",
      "metadata": {}
    },
    {
      "cell_type": "markdown",
      "source": "### By Jose",
      "metadata": {}
    },
    {
      "cell_type": "code",
      "source": "",
      "metadata": {},
      "execution_count": null,
      "outputs": []
    }
  ]
}